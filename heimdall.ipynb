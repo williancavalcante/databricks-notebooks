{
 "cells": [
  {
   "cell_type": "code",
   "execution_count": null,
   "metadata": {},
   "outputs": [],
   "source": [
    "import re"
   ]
  },
  {
   "cell_type": "code",
   "execution_count": null,
   "metadata": {},
   "outputs": [],
   "source": [
    "class StorageContext:\n",
    "    \"\"\"\n",
    "    Gerencia e fornece contexto de armazenamento, como conta de armazenamento,\n",
    "    ID de invocação, informações do contêiner e do blob.\n",
    "\n",
    "    Attributes:\n",
    "        storage_account (str): Conta de armazenamento utilizada.\n",
    "        invocation_id (str): ID de invocação do processo.\n",
    "        container (str): Nome do contêiner no contexto de armazenamento.\n",
    "        path (str): Caminho do arquivo.\n",
    "        blob (str): Nome do blob no contexto de armazenamento.\n",
    "    \"\"\"\n",
    "\n",
    "    def __init__(self, storage_account: str, path: str, blob: str, invocation_id: str) -> None:\n",
    "        self.storage_account    = storage_account\n",
    "        self.invocation_id      = invocation_id\n",
    "        self.container          = self._extract_value(re.compile(r\"containers/([^/]+)\"), path)\n",
    "        self.path               = self._extract_value(re.compile(r\"blobs/(.+)\"), path)\n",
    "        self.blob               = blob\n",
    "        self.abfss              = f\"abfss://{self.container}@{self.storage_account}.dfs.core.windows.net/{self.path}{self.blob}\"\n",
    "        self.user_request       = self._extract_value(re.compile(r\"(?:[^_]*_){6}([^\\.]+)\"), blob)\n",
    "\n",
    "    @staticmethod\n",
    "    def _extract_value(pattern: str, text: str) -> str:\n",
    "        \"\"\"\n",
    "        Extrai um valor com base em um padrão regex fornecido.\n",
    "\n",
    "        Args:\n",
    "            pattern (str): O padrão regex para extração.\n",
    "            text (str): O texto do qual extrair o valor.\n",
    "\n",
    "        Returns:\n",
    "            str: O valor extraído ou uma string vazia se nenhuma correspondência for encontrada.\n",
    "        \"\"\"\n",
    "        match = re.search(pattern, text)\n",
    "        return match.group(1) if match else \"\""
   ]
  }
 ],
 "metadata": {
  "kernelspec": {
   "display_name": ".venv",
   "language": "python",
   "name": "python3"
  },
  "language_info": {
   "name": "python",
   "version": "3.10.12"
  }
 },
 "nbformat": 4,
 "nbformat_minor": 2
}
